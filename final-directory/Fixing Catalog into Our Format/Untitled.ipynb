{
 "cells": [
  {
   "cell_type": "code",
   "execution_count": 1,
   "id": "6294222e",
   "metadata": {},
   "outputs": [],
   "source": [
    "import pandas as pd\n",
    "import numpy as np\n",
    "import sys\n",
    "sys.path.insert(0, '/Users/sky5265/Documents/GitHub/Astro_Code')\n",
    "from Astro_useful_funcs import *\n",
    "from Analysis_useful_funcs import *\n",
    "import time\n",
    "import pdb\n",
    "import math"
   ]
  },
  {
   "cell_type": "code",
   "execution_count": 2,
   "id": "9b47fc14",
   "metadata": {},
   "outputs": [],
   "source": [
    "def get_dist_mod(dist_Mpc):\n",
    "    \n",
    "    return 5*np.log10(dist_Mpc*1.0E6)-5\n",
    "\n",
    "def get_abs_from_app_mag(app_mag, dist_Mpc):\n",
    "    if math.isnan(app_mag) or math.isnan(dist_Mpc):\n",
    "        return float('nan')\n",
    "    return app_mag - get_dist_mod(dist_Mpc)"
   ]
  },
  {
   "cell_type": "code",
   "execution_count": 5,
   "id": "1339cbb4",
   "metadata": {},
   "outputs": [],
   "source": [
    "\n",
    "    \n",
    "\n",
    "chunks=pd.read_table(\"Full_Glade_Catalog.txt\", chunksize=1000000,sep=' ', usecols = [8,9,10,18,32], header=None)\n",
    "df=pd.DataFrame()\n",
    "df=pd.concat(chunks)"
   ]
  },
  {
   "cell_type": "code",
   "execution_count": 6,
   "id": "99fdd2d3",
   "metadata": {},
   "outputs": [
    {
     "name": "stdout",
     "output_type": "stream",
     "text": [
      "Max RA in full catalog: 360.0\n",
      "Min RA in full catalog: 0.0\n",
      "Max Dec in full catalog: 89.9402178\n",
      "Min Dec in full catalog: -89.9929033\n",
      "             RAJ2000    DEJ2000      B      K      dist_Mpc\n",
      "0         192.721451  41.120152   8.80  5.169      4.392418\n",
      "1         188.860123  14.496320  10.85  7.368     15.876007\n",
      "2         267.360474  70.144341  10.28  7.382     12.446600\n",
      "3         187.016220   9.803620  11.29  7.381     11.461371\n",
      "4         187.367000   8.749890  12.40    NaN     15.180920\n",
      "...              ...        ...    ...    ...           ...\n",
      "23181753  359.999118  28.954734    NaN    NaN  20403.464630\n",
      "23181754  359.999303  34.720842    NaN    NaN  27158.368406\n",
      "23181755  359.999615   3.268586    NaN    NaN   8792.439985\n",
      "23181756  359.999759  20.721079    NaN    NaN  16022.500633\n",
      "23181757  359.999954  34.747133    NaN    NaN  19629.730536\n",
      "\n",
      "[23181758 rows x 5 columns]\n",
      "             RAJ2000    DEJ2000      B      K      dist_Mpc\n",
      "0         192.721451  41.120152   8.80  5.169      4.392418\n",
      "1         188.860123  14.496320  10.85  7.368     15.876007\n",
      "2         267.360474  70.144341  10.28  7.382     12.446600\n",
      "3         187.016220   9.803620  11.29  7.381     11.461371\n",
      "4         187.367000   8.749890  12.40    NaN     15.180920\n",
      "...              ...        ...    ...    ...           ...\n",
      "23181753  359.999118  28.954734    NaN    NaN  20403.464630\n",
      "23181754  359.999303  34.720842    NaN    NaN  27158.368406\n",
      "23181755  359.999615   3.268586    NaN    NaN   8792.439985\n",
      "23181756  359.999759  20.721079    NaN    NaN  16022.500633\n",
      "23181757  359.999954  34.747133    NaN    NaN  19629.730536\n",
      "\n",
      "[13961166 rows x 5 columns]\n"
     ]
    }
   ],
   "source": [
    "df.columns = ['RAJ2000','DEJ2000','B','K','dist_Mpc']\n",
    "\n",
    "print(\"Max RA in full catalog: \"+str(max(df['RAJ2000'])))\n",
    "print(\"Min RA in full catalog: \"+str(min(df['RAJ2000'])))\n",
    "\n",
    "print(\"Max Dec in full catalog: \"+str(max(df['DEJ2000'])))\n",
    "print(\"Min Dec in full catalog: \"+str(min(df['DEJ2000'])))\n",
    "\n",
    "print(df)\n",
    "\n",
    "\n",
    "HET_visible_galaxies = df.loc[(df['DEJ2000'] > -12) & (df['DEJ2000'] < 74)]\n",
    "print(HET_visible_galaxies)\n",
    "RA = HET_visible_galaxies['RAJ2000']\n",
    "Dec = HET_visible_galaxies['DEJ2000']\n",
    "B_app = HET_visible_galaxies['B']\n",
    "K_app = HET_visible_galaxies['K']\n",
    "dist_Mpc = HET_visible_galaxies['dist_Mpc']"
   ]
  },
  {
   "cell_type": "code",
   "execution_count": 7,
   "id": "237dd78f",
   "metadata": {},
   "outputs": [
    {
     "name": "stderr",
     "output_type": "stream",
     "text": [
      "/var/folders/1l/sg3g34f52kz5h2zgvjwnpt4w6g5wdw/T/ipykernel_18092/1176614411.py:9: SettingWithCopyWarning: \n",
      "A value is trying to be set on a copy of a slice from a DataFrame\n",
      "\n",
      "See the caveats in the documentation: https://pandas.pydata.org/pandas-docs/stable/user_guide/indexing.html#returning-a-view-versus-a-copy\n",
      "  HET_visible_galaxies.loc[i] = [RA[i], Dec[i], get_abs_from_app_mag(B_app[i], dist_Mpc[i]), get_abs_from_app_mag(K_app[i], dist_Mpc[i]), dist_Mpc[i]]\n"
     ]
    }
   ],
   "source": [
    "#print(\"B_app: \"+str(B_app))\n",
    "#print(\"length of B_app: \"+str(len(B_app)))\n",
    "#print(HET_visible_galaxies.loc[148])\n",
    "\n",
    "#B_abs = np.asarray([get_abs_from_app_mag(B_app[i], dist_Mpc[i]) for i, row in HET_visible_galaxies.iterrows()])\n",
    "#K_abs = np.asarray([get_abs_from_app_mag(K_app[i], dist_Mpc[i]) for i, row in HET_visible_galaxies.iterrows()])\n",
    "\n",
    "for i, row in HET_visible_galaxies.iterrows():\n",
    "    HET_visible_galaxies.loc[i] = [RA[i], Dec[i], get_abs_from_app_mag(B_app[i], dist_Mpc[i]), get_abs_from_app_mag(K_app[i], dist_Mpc[i]), dist_Mpc[i]]"
   ]
  },
  {
   "cell_type": "code",
   "execution_count": 8,
   "id": "deb7408e",
   "metadata": {},
   "outputs": [],
   "source": [
    "HET_visible_galaxies.to_csv(\"Glade_HET_Visible_Galaxies.csv\", sep=',')"
   ]
  }
 ],
 "metadata": {
  "kernelspec": {
   "display_name": "Python 3 (ipykernel)",
   "language": "python",
   "name": "python3"
  },
  "language_info": {
   "codemirror_mode": {
    "name": "ipython",
    "version": 3
   },
   "file_extension": ".py",
   "mimetype": "text/x-python",
   "name": "python",
   "nbconvert_exporter": "python",
   "pygments_lexer": "ipython3",
   "version": "3.9.10"
  }
 },
 "nbformat": 4,
 "nbformat_minor": 5
}
